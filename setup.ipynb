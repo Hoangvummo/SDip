{
 "cells": [
  {
   "cell_type": "markdown",
   "id": "dfba03c9-2675-4805-b337-a8bee2919bd1",
   "metadata": {
    "id": "dfba03c9-2675-4805-b337-a8bee2919bd1"
   },
   "source": [
    "# **A1111(webui) for Stable Diffusion**"
   ]
  },
  {
   "cell_type": "markdown",
   "id": "796daae5-c7e3-4165-958d-5706d10cf5f9",
   "metadata": {
    "id": "796daae5-c7e3-4165-958d-5706d10cf5f9"
   },
   "source": [
    "## CÀI ĐẶT"
   ]
  },
  {
   "cell_type": "markdown",
   "id": "0d174fe4-ac87-4d3e-a756-e778b4c24de1",
   "metadata": {
    "id": "0d174fe4-ac87-4d3e-a756-e778b4c24de1"
   },
   "source": [
    "### Bước 1 - Requirements"
   ]
  },
  {
   "cell_type": "code",
   "execution_count": null,
   "id": "712a4eda-7f02-4fdd-864f-a7d79212abdb",
   "metadata": {},
   "outputs": [],
   "source": [
    "from IPython.display import clear_output\n",
    "\n",
    "!git clone https://github.com/AUTOMATIC1111/stable-diffusion-webui\n",
    "!pip install -r stable-diffusion-webui/requirements.txt\n",
    "!pip install pickleshare\n",
    "!pip install basicsr\n",
    "\n",
    "# clear_output()\n",
    "print('Done!')"
   ]
  },
  {
   "cell_type": "markdown",
   "id": "c50a2cc1-7e7a-4bff-9f8a-f13aae5fc5a1",
   "metadata": {
    "id": "4ed2c481-c09d-46cf-88ac-c980fa59d759"
   },
   "source": [
    "### Bước 2 - Download Model"
   ]
  },
  {
   "cell_type": "code",
   "execution_count": null,
   "id": "e6a36f88-c397-4df1-b14c-bfb71af7cb75",
   "metadata": {
    "id": "e6a36f88-c397-4df1-b14c-bfb71af7cb75",
    "outputId": "e737e2b0-5b66-4c03-902d-425ca44fab80"
   },
   "outputs": [],
   "source": [
    "%cd /teamspace/studios/this_studio\n",
    "!wget -q --show-progress -c https://civitai.com/api/download/models/245598 -O stable-diffusion-webui/models/Stable-diffusion/realisticVisionV60B1_v60B1VAE.safetensors\n",
    "!wget -q --show-progress -c https://civitai.com/api/download/models/361593 -O stable-diffusion-webui/models/Stable-diffusion/realvisxlV40_v40LightningBakedvae.safetensors\n",
    "!wget -q --show-progress -c https://civitai.com/api/download/models/176425 -O stable-diffusion-webui/models/Stable-diffusion/majicmixRealistic_v7.safetensors\n",
    "!wget -q --show-progress -c https://civitai.com/api/download/models/127016 -O stable-diffusion-webui/models/Stable-diffusion/asianrealisticSdlife_v60.safetensors\n",
    "!wget -q --show-progress -c https://huggingface.co/datasets/Ultimatech/InteriorDesign/resolve/main/laowang_ARCH_MIX_V0.5.safetensors -O stable-diffusion-webui/models/Stable-diffusion/laowang_ARCH_MIX_V0.5.safetensors"
   ]
  },
  {
   "cell_type": "markdown",
   "id": "f2b1eee4-37f3-4e47-bde6-8c6b6fcfd44f",
   "metadata": {
    "id": "4ed2c481-c09d-46cf-88ac-c980fa59d759"
   },
   "source": [
    "### Bước 3 - Download Extension"
   ]
  },
  {
   "cell_type": "code",
   "execution_count": 2,
   "id": "3700739f-9697-47d7-ba61-171ebe661316",
   "metadata": {},
   "outputs": [
    {
     "name": "stdout",
     "output_type": "stream",
     "text": [
      "/teamspace/studios/this_studio/stable-diffusion-webui/extensions\n",
      "fatal: destination path 'sd-webui-reactor' already exists and is not an empty directory.\n",
      "\n",
      "\n",
      "\u001b[38;5;57m\u001b[1m⚡️ Tip\u001b[0m\tConnect GitHub to Studios: \u001b[4mhttps://lightning.ai/cotuvip2/home?settings=integrations\u001b[0m\n",
      "\n",
      "fatal: destination path 'adetailer' already exists and is not an empty directory.\n",
      "\n",
      "\n",
      "\u001b[38;5;57m\u001b[1m⚡️ Tip\u001b[0m\tConnect GitHub to Studios: \u001b[4mhttps://lightning.ai/cotuvip2/home?settings=integrations\u001b[0m\n",
      "\n",
      "fatal: destination path 'sd-webui-inpaint-anything' already exists and is not an empty directory.\n",
      "\n",
      "\n",
      "\u001b[38;5;57m\u001b[1m⚡️ Tip\u001b[0m\tConnect GitHub to Studios: \u001b[4mhttps://lightning.ai/cotuvip2/home?settings=integrations\u001b[0m\n",
      "\n",
      "fatal: destination path 'sd-webui-controlnet' already exists and is not an empty directory.\n",
      "\n",
      "\n",
      "\u001b[38;5;57m\u001b[1m⚡️ Tip\u001b[0m\tConnect GitHub to Studios: \u001b[4mhttps://lightning.ai/cotuvip2/home?settings=integrations\u001b[0m\n",
      "\n",
      "Cloning into 'stable-diffusion-webui-huggingface'...\n",
      "\n"
     ]
    }
   ],
   "source": [
    "%cd /teamspace/studios/this_studio/stable-diffusion-webui/extensions\n",
    "!git clone https://github.com/Gourieff/sd-webui-reactor\n",
    "!git clone https://github.com/Bing-su/adetailer\n",
    "!git clone https://github.com/Uminosachi/sd-webui-inpaint-anything\n",
    "!git clone https://github.com/Mikubill/sd-webui-controlnet\n",
    "!git clone https://github.com/camenduru/stable-diffusion-webui-huggingface\n"
   ]
  },
  {
   "cell_type": "markdown",
   "id": "80d9b2ae-03a0-4520-b2e3-fbcb75d1f37e",
   "metadata": {
    "id": "4ed2c481-c09d-46cf-88ac-c980fa59d759"
   },
   "source": [
    "### Bước 4 - Download Controlnet"
   ]
  },
  {
   "cell_type": "code",
   "execution_count": null,
   "id": "8bde6029-bf20-4a11-a74e-1df17369a589",
   "metadata": {},
   "outputs": [],
   "source": [
    "%cd /teamspace/studios/this_studio\n",
    "!wget -q --show-progress -c https://huggingface.co/lllyasviel/ControlNet-v1-1/resolve/main/control_v11e_sd15_ip2p.pth -O stable-diffusion-webui/extensions/sd-webui-controlnet/models/control_v11e_sd15_ip2p.pth\n",
    "!wget -q --show-progress -c https://huggingface.co/lllyasviel/ControlNet-v1-1/resolve/main/control_v11e_sd15_shuffle.pth -O stable-diffusion-webui/extensions/sd-webui-controlnet/models/control_v11e_sd15_shuffle.pth\n",
    "!wget -q --show-progress -c https://huggingface.co/lllyasviel/ControlNet-v1-1/resolve/main/control_v11f1e_sd15_tile.pth -O stable-diffusion-webui/extensions/sd-webui-controlnet/models/control_v11f1e_sd15_tile.pth\n",
    "!wget -q --show-progress -c https://huggingface.co/lllyasviel/ControlNet-v1-1/resolve/main/control_v11f1p_sd15_depth.pth -O stable-diffusion-webui/extensions/sd-webui-controlnet/models/control_v11f1p_sd15_depth.pth\n",
    "!wget -q --show-progress -c https://huggingface.co/lllyasviel/ControlNet-v1-1/resolve/main/control_v11p_sd15_canny.pth -O stable-diffusion-webui/extensions/sd-webui-controlnet/models/control_v11p_sd15_canny.pth\n",
    "!wget -q --show-progress -c https://huggingface.co/lllyasviel/ControlNet-v1-1/resolve/main/control_v11p_sd15_inpaint.pth -O stable-diffusion-webui/extensions/sd-webui-controlnet/models/control_v11p_sd15_inpaint.pth\n",
    "!wget -q --show-progress -c https://huggingface.co/lllyasviel/ControlNet-v1-1/resolve/main/control_v11p_sd15_lineart.pth -O stable-diffusion-webui/extensions/sd-webui-controlnet/models/control_v11p_sd15_lineart.pth\n",
    "!wget -q --show-progress -c https://huggingface.co/lllyasviel/ControlNet-v1-1/resolve/main/control_v11p_sd15_mlsd.pth -O stable-diffusion-webui/extensions/sd-webui-controlnet/models/control_v11p_sd15_mlsd.pth\n",
    "!wget -q --show-progress -c https://huggingface.co/lllyasviel/ControlNet-v1-1/resolve/main/control_v11p_sd15_normalbae.pth -O stable-diffusion-webui/extensions/sd-webui-controlnet/models/control_v11p_sd15_normalbae.pth\n",
    "!wget -q --show-progress -c https://huggingface.co/lllyasviel/ControlNet-v1-1/resolve/main/control_v11p_sd15_openpose.pth -O stable-diffusion-webui/extensions/sd-webui-controlnet/models/control_v11p_sd15_openpose.pth\n",
    "!wget -q --show-progress -c https://huggingface.co/lllyasviel/ControlNet-v1-1/resolve/main/control_v11p_sd15_scribble.pth -O stable-diffusion-webui/extensions/sd-webui-controlnet/models/control_v11p_sd15_scribble.pth\n",
    "!wget -q --show-progress -c https://huggingface.co/lllyasviel/ControlNet-v1-1/resolve/main/control_v11p_sd15_seg.pth -O stable-diffusion-webui/extensions/sd-webui-controlnet/models/control_v11p_sd15_seg.pth\n",
    "!wget -q --show-progress -c https://huggingface.co/lllyasviel/ControlNet-v1-1/resolve/main/control_v11p_sd15_softedge.pth -O stable-diffusion-webui/extensions/sd-webui-controlnet/models/control_v11p_sd15_softedge.pth\n",
    "!wget -q --show-progress -c https://huggingface.co/lllyasviel/ControlNet-v1-1/resolve/main/control_v11p_sd15s2_lineart_anime.pth -O stable-diffusion-webui/extensions/sd-webui-controlnet/models/control_v11p_sd15s2_lineart_anime.pth\n",
    "!wget -q --show-progress -c https://huggingface.co/TencentARC/T2I-Adapter/resolve/main/models/t2iadapter_color_sd14v1.pth -O stable-diffusion-webui/extensions/sd-webui-controlnet/models/t2iadapter_color_sd14v1.pth\n",
    "!wget -q --show-progress -c https://huggingface.co/TencentARC/T2I-Adapter/resolve/main/models/t2iadapter_style_sd14v1.pth -O stable-diffusion-webui/extensions/sd-webui-controlnet/models/t2iadapter_style_sd14v1.pth\n",
    "!wget -q --show-progress -c https://huggingface.co/h94/IP-Adapter/resolve/main/models/ip-adapter_sd15.safetensors -O stable-diffusion-webui/extensions/sd-webui-controlnet/models/ip-adapter_sd15.safetensors\n",
    "!wget -q --show-progress -c https://huggingface.co/h94/IP-Adapter/resolve/main/models/ip-adapter-plus_sd15.safetensors -O stable-diffusion-webui/extensions/sd-webui-controlnet/models/ip-adapter-plus_sd15.safetensors\n",
    "!wget -q --show-progress -c https://huggingface.co/h94/IP-Adapter/resolve/main/models/ip-adapter-plus-face_sd15.safetensors -O stable-diffusion-webui/extensions/sd-webui-controlnet/models/ip-adapter-plus-face_sd15.safetensors\n",
    "!wget -q --show-progress -c https://huggingface.co/h94/IP-Adapter-FaceID/resolve/main/ip-adapter-faceid-plusv2_sd15.bin -O stable-diffusion-webui/extensions/sd-webui-controlnet/models/ip-adapter-faceid-plusv2_sd15.bin\n",
    "!wget -q --show-progress -c https://huggingface.co/h94/IP-Adapter/resolve/main/sdxl_models/ip-adapter-plus_sdxl_vit-h.safetensors -O stable-diffusion-webui/extensions/sd-webui-controlnet/models/ip-adapter-plus_sdxl_vit-h.safetensors\n",
    "!wget -q --show-progress -c https://huggingface.co/h94/IP-Adapter-FaceID/resolve/main/ip-adapter-faceid_sdxl.bin -O stable-diffusion-webui/extensions/sd-webui-controlnet/models/ip-adapter-faceid_sdxl.bin\n",
    "!pip install insightface"
   ]
  },
  {
   "cell_type": "markdown",
   "id": "e0328428-7bc6-4485-ac40-696636a3806b",
   "metadata": {
    "id": "e0328428-7bc6-4485-ac40-696636a3806b"
   },
   "source": [
    "### Bước 5 - Chạy SD"
   ]
  },
  {
   "cell_type": "code",
   "execution_count": null,
   "id": "828e67dc-b0bd-4a36-94cf-1cba6abddb5a",
   "metadata": {
    "id": "828e67dc-b0bd-4a36-94cf-1cba6abddb5a",
    "outputId": "877c3072-dc6e-459b-d69b-862c7e1a10c2"
   },
   "outputs": [
    {
     "name": "stdout",
     "output_type": "stream",
     "text": [
      "/teamspace/studios/this_studio/stable-diffusion-webui\n",
      "Python 3.10.10 (main, Mar 21 2023, 18:45:11) [GCC 11.2.0]\n",
      "Version: v1.9.4\n",
      "Commit hash: feee37d75f1b168768014e4634dcb156ee649c05\n",
      "Installing sd-webui-controlnet requirement: changing opencv-python version from 4.10.0.84 to 4.8.0\n",
      "CUDA 12.1\n",
      "Launching Web UI with arguments: --share --enable-insecure-extension-access\n",
      "no module 'xformers'. Processing without...\n",
      "no module 'xformers'. Processing without...\n",
      "No module 'xformers'. Proceeding without it.\n",
      "\u001b[1m[\u001b[0m-\u001b[1m]\u001b[0m ADetailer initialized. version: \u001b[1;36m24.6\u001b[0m.\u001b[1;36m0\u001b[0m, num models: \u001b[1;36m10\u001b[0m\n",
      "ControlNet preprocessor location: /teamspace/studios/this_studio/stable-diffusion-webui/extensions/sd-webui-controlnet/annotator/downloads\n",
      "2024-07-16 22:03:53,359 - ControlNet - \u001b[0;32mINFO\u001b[0m - ControlNet v1.1.454\n",
      "22:03:53 - ReActor - \u001b[38;5;173mSTATUS\u001b[0m - Running v0.7.1-a1 on Device: CUDA\n",
      "Loading weights [5350dfc29c] from /teamspace/studios/this_studio/stable-diffusion-webui/models/Stable-diffusion/laowang_ARCH_MIX_V0.5.safetensors\n",
      "2024-07-16 22:03:54,428 - ControlNet - \u001b[0;32mINFO\u001b[0m - ControlNet UI callback registered.\n",
      "Running on local URL:  http://127.0.0.1:7860\n",
      "Creating model from config: /teamspace/studios/this_studio/stable-diffusion-webui/configs/v1-inference.yaml\n",
      "Running on public URL: https://1dae37434db1b973bc.gradio.live\n",
      "\n",
      "This share link expires in 72 hours. For free permanent hosting and GPU upgrades, run `gradio deploy` from Terminal to deploy to Spaces (https://huggingface.co/spaces)\n",
      "Startup time: 12.7s (prepare environment: 4.2s, import torch: 2.9s, import gradio: 0.9s, setup paths: 0.9s, initialize shared: 0.4s, other imports: 0.4s, load scripts: 1.2s, create ui: 0.8s, gradio launch: 1.1s).\n",
      "Applying attention optimization: Doggettx... done.\n",
      "Model loaded in 2.8s (load weights from disk: 1.2s, create model: 0.3s, apply weights to model: 0.7s, load textual inversion embeddings: 0.2s, calculate empty prompt: 0.3s).\n",
      "Traceback (most recent call last):\n",
      "  File \"/home/zeus/miniconda3/envs/cloudspace/lib/python3.10/site-packages/huggingface_hub/utils/_errors.py\", line 304, in hf_raise_for_status\n",
      "    response.raise_for_status()\n",
      "  File \"/home/zeus/miniconda3/envs/cloudspace/lib/python3.10/site-packages/requests/models.py\", line 1024, in raise_for_status\n",
      "    raise HTTPError(http_error_msg, response=self)\n",
      "requests.exceptions.HTTPError: 403 Client Error: Forbidden for url: https://huggingface.co/api/repos/create\n",
      "\n",
      "The above exception was the direct cause of the following exception:\n",
      "\n",
      "Traceback (most recent call last):\n",
      "  File \"/home/zeus/miniconda3/envs/cloudspace/lib/python3.10/site-packages/gradio/routes.py\", line 488, in run_predict\n",
      "    output = await app.get_blocks().process_api(\n",
      "  File \"/home/zeus/miniconda3/envs/cloudspace/lib/python3.10/site-packages/gradio/blocks.py\", line 1431, in process_api\n",
      "    result = await self.call_function(\n",
      "  File \"/home/zeus/miniconda3/envs/cloudspace/lib/python3.10/site-packages/gradio/blocks.py\", line 1103, in call_function\n",
      "    prediction = await anyio.to_thread.run_sync(\n",
      "  File \"/home/zeus/miniconda3/envs/cloudspace/lib/python3.10/site-packages/anyio/to_thread.py\", line 33, in run_sync\n",
      "    return await get_asynclib().run_sync_in_worker_thread(\n",
      "  File \"/home/zeus/miniconda3/envs/cloudspace/lib/python3.10/site-packages/anyio/_backends/_asyncio.py\", line 877, in run_sync_in_worker_thread\n",
      "    return await future\n",
      "  File \"/home/zeus/miniconda3/envs/cloudspace/lib/python3.10/site-packages/anyio/_backends/_asyncio.py\", line 807, in run\n",
      "    result = context.run(func, *args)\n",
      "  File \"/home/zeus/miniconda3/envs/cloudspace/lib/python3.10/site-packages/gradio/utils.py\", line 707, in wrapper\n",
      "    response = f(*args, **kwargs)\n",
      "  File \"/teamspace/studios/this_studio/stable-diffusion-webui/extensions/stable-diffusion-webui-huggingface/scripts/huggingface.py\", line 23, in push_folder\n",
      "    create_repo(folder_to, private=True, token=token)\n",
      "  File \"/home/zeus/miniconda3/envs/cloudspace/lib/python3.10/site-packages/huggingface_hub/utils/_validators.py\", line 114, in _inner_fn\n",
      "    return fn(*args, **kwargs)\n",
      "  File \"/home/zeus/miniconda3/envs/cloudspace/lib/python3.10/site-packages/huggingface_hub/hf_api.py\", line 3256, in create_repo\n",
      "    hf_raise_for_status(r)\n",
      "  File \"/home/zeus/miniconda3/envs/cloudspace/lib/python3.10/site-packages/huggingface_hub/utils/_errors.py\", line 367, in hf_raise_for_status\n",
      "    raise HfHubHTTPError(message, response=response) from e\n",
      "huggingface_hub.utils._errors.HfHubHTTPError:  (Request ID: Root=1-6696eef8-3532915379f083c456557357;46d9e067-7f3d-41ea-bd91-db78709290f9)\n",
      "\n",
      "403 Forbidden: You don't have the rights to create a model under the namespace \"vhau\".\n",
      "Cannot access content at: https://huggingface.co/api/repos/create.\n",
      "If you are trying to create or update content,make sure you have a token with the `write` role.\n",
      "ModelInfo(id='vhau/SD-VHAU', author='vhau', sha='103cf23a1d1afe3a3716032eea186a0213e3045d', created_at=datetime.datetime(2024, 7, 16, 22, 8, 55, tzinfo=datetime.timezone.utc), last_modified=datetime.datetime(2024, 7, 16, 22, 8, 56, tzinfo=datetime.timezone.utc), private=True, gated=False, disabled=False, downloads=0, likes=0, library_name=None, tags=['region:us'], pipeline_tag=None, mask_token=None, card_data=None, widget_data=None, model_index=None, config=None, transformers_info=None, siblings=[RepoSibling(rfilename='.gitattributes', size=None, blob_id=None, lfs=None)], spaces=[], safetensors=None)\n",
      "Traceback (most recent call last):\n",
      "  File \"/home/zeus/miniconda3/envs/cloudspace/lib/python3.10/site-packages/gradio/routes.py\", line 488, in run_predict\n",
      "    output = await app.get_blocks().process_api(\n",
      "  File \"/home/zeus/miniconda3/envs/cloudspace/lib/python3.10/site-packages/gradio/blocks.py\", line 1431, in process_api\n",
      "    result = await self.call_function(\n",
      "  File \"/home/zeus/miniconda3/envs/cloudspace/lib/python3.10/site-packages/gradio/blocks.py\", line 1103, in call_function\n",
      "    prediction = await anyio.to_thread.run_sync(\n",
      "  File \"/home/zeus/miniconda3/envs/cloudspace/lib/python3.10/site-packages/anyio/to_thread.py\", line 33, in run_sync\n",
      "    return await get_asynclib().run_sync_in_worker_thread(\n",
      "  File \"/home/zeus/miniconda3/envs/cloudspace/lib/python3.10/site-packages/anyio/_backends/_asyncio.py\", line 877, in run_sync_in_worker_thread\n",
      "    return await future\n",
      "  File \"/home/zeus/miniconda3/envs/cloudspace/lib/python3.10/site-packages/anyio/_backends/_asyncio.py\", line 807, in run\n",
      "    result = context.run(func, *args)\n",
      "  File \"/home/zeus/miniconda3/envs/cloudspace/lib/python3.10/site-packages/gradio/utils.py\", line 707, in wrapper\n",
      "    response = f(*args, **kwargs)\n",
      "  File \"/teamspace/studios/this_studio/stable-diffusion-webui/extensions/stable-diffusion-webui-huggingface/scripts/huggingface.py\", line 34, in push_folder\n",
      "    upload_folder(folder_path=folder_from, path_in_repo=\"\", revision=branch, repo_id=folder_to, commit_message=f\"folder\", token=token)\n",
      "  File \"/home/zeus/miniconda3/envs/cloudspace/lib/python3.10/site-packages/huggingface_hub/utils/_validators.py\", line 114, in _inner_fn\n",
      "    return fn(*args, **kwargs)\n",
      "  File \"/home/zeus/miniconda3/envs/cloudspace/lib/python3.10/site-packages/huggingface_hub/hf_api.py\", line 1286, in _inner\n",
      "    return fn(self, *args, **kwargs)\n",
      "  File \"/home/zeus/miniconda3/envs/cloudspace/lib/python3.10/site-packages/huggingface_hub/hf_api.py\", line 4691, in upload_folder\n",
      "    add_operations = _prepare_upload_folder_additions(\n",
      "  File \"/home/zeus/miniconda3/envs/cloudspace/lib/python3.10/site-packages/huggingface_hub/hf_api.py\", line 8603, in _prepare_upload_folder_additions\n",
      "    raise ValueError(f\"Provided path: '{folder_path}' is not a directory\")\n",
      "ValueError: Provided path: '/teamspace/studios/this_studio/stable-diffusion-webui/stable-diffusion-webui/models' is not a directory\n",
      "ModelInfo(id='vhau/SD-VHAU', author='vhau', sha='103cf23a1d1afe3a3716032eea186a0213e3045d', created_at=datetime.datetime(2024, 7, 16, 22, 8, 55, tzinfo=datetime.timezone.utc), last_modified=datetime.datetime(2024, 7, 16, 22, 8, 56, tzinfo=datetime.timezone.utc), private=True, gated=False, disabled=False, downloads=0, likes=0, library_name=None, tags=['region:us'], pipeline_tag=None, mask_token=None, card_data=None, widget_data=None, model_index=None, config=None, transformers_info=None, siblings=[RepoSibling(rfilename='.gitattributes', size=None, blob_id=None, lfs=None)], spaces=[], safetensors=None)\n",
      "ModelInfo(id='vhau/SD-VHAU', author='vhau', sha='103cf23a1d1afe3a3716032eea186a0213e3045d', created_at=datetime.datetime(2024, 7, 16, 22, 8, 55, tzinfo=datetime.timezone.utc), last_modified=datetime.datetime(2024, 7, 16, 22, 8, 56, tzinfo=datetime.timezone.utc), private=True, gated=False, disabled=False, downloads=0, likes=0, library_name=None, tags=['region:us'], pipeline_tag=None, mask_token=None, card_data=None, widget_data=None, model_index=None, config=None, transformers_info=None, siblings=[RepoSibling(rfilename='.gitattributes', size=None, blob_id=None, lfs=None)], spaces=[], safetensors=None)\n",
      "Traceback (most recent call last):\n",
      "  File \"/home/zeus/miniconda3/envs/cloudspace/lib/python3.10/site-packages/gradio/routes.py\", line 488, in run_predict\n",
      "    output = await app.get_blocks().process_api(\n",
      "  File \"/home/zeus/miniconda3/envs/cloudspace/lib/python3.10/site-packages/gradio/blocks.py\", line 1431, in process_api\n",
      "    result = await self.call_function(\n",
      "  File \"/home/zeus/miniconda3/envs/cloudspace/lib/python3.10/site-packages/gradio/blocks.py\", line 1103, in call_function\n",
      "    prediction = await anyio.to_thread.run_sync(\n",
      "  File \"/home/zeus/miniconda3/envs/cloudspace/lib/python3.10/site-packages/anyio/to_thread.py\", line 33, in run_sync\n",
      "    return await get_asynclib().run_sync_in_worker_thread(\n",
      "  File \"/home/zeus/miniconda3/envs/cloudspace/lib/python3.10/site-packages/anyio/_backends/_asyncio.py\", line 877, in run_sync_in_worker_thread\n",
      "    return await future\n",
      "  File \"/home/zeus/miniconda3/envs/cloudspace/lib/python3.10/site-packages/anyio/_backends/_asyncio.py\", line 807, in run\n",
      "    result = context.run(func, *args)\n",
      "  File \"/home/zeus/miniconda3/envs/cloudspace/lib/python3.10/site-packages/gradio/utils.py\", line 707, in wrapper\n",
      "    response = f(*args, **kwargs)\n",
      "  File \"/teamspace/studios/this_studio/stable-diffusion-webui/extensions/stable-diffusion-webui-huggingface/scripts/huggingface.py\", line 34, in push_folder\n",
      "    upload_folder(folder_path=folder_from, path_in_repo=\"\", revision=branch, repo_id=folder_to, commit_message=f\"folder\", token=token)\n",
      "  File \"/home/zeus/miniconda3/envs/cloudspace/lib/python3.10/site-packages/huggingface_hub/utils/_validators.py\", line 114, in _inner_fn\n",
      "    return fn(*args, **kwargs)\n",
      "  File \"/home/zeus/miniconda3/envs/cloudspace/lib/python3.10/site-packages/huggingface_hub/hf_api.py\", line 1286, in _inner\n",
      "    return fn(self, *args, **kwargs)\n",
      "  File \"/home/zeus/miniconda3/envs/cloudspace/lib/python3.10/site-packages/huggingface_hub/hf_api.py\", line 4691, in upload_folder\n",
      "    add_operations = _prepare_upload_folder_additions(\n",
      "  File \"/home/zeus/miniconda3/envs/cloudspace/lib/python3.10/site-packages/huggingface_hub/hf_api.py\", line 8603, in _prepare_upload_folder_additions\n",
      "    raise ValueError(f\"Provided path: '{folder_path}' is not a directory\")\n",
      "ValueError: Provided path: '/teamspace/studios/this_studio/stable-diffusion-webui/stable-diffusion-webui/models' is not a directory\n",
      "ModelInfo(id='vhau/SD-VHAU', author='vhau', sha='103cf23a1d1afe3a3716032eea186a0213e3045d', created_at=datetime.datetime(2024, 7, 16, 22, 8, 55, tzinfo=datetime.timezone.utc), last_modified=datetime.datetime(2024, 7, 16, 22, 8, 56, tzinfo=datetime.timezone.utc), private=True, gated=False, disabled=False, downloads=0, likes=0, library_name=None, tags=['region:us'], pipeline_tag=None, mask_token=None, card_data=None, widget_data=None, model_index=None, config=None, transformers_info=None, siblings=[RepoSibling(rfilename='.gitattributes', size=None, blob_id=None, lfs=None)], spaces=[], safetensors=None)\n",
      "Traceback (most recent call last):\n",
      "  File \"/home/zeus/miniconda3/envs/cloudspace/lib/python3.10/site-packages/gradio/routes.py\", line 488, in run_predict\n",
      "    output = await app.get_blocks().process_api(\n",
      "  File \"/home/zeus/miniconda3/envs/cloudspace/lib/python3.10/site-packages/gradio/blocks.py\", line 1431, in process_api\n",
      "    result = await self.call_function(\n",
      "  File \"/home/zeus/miniconda3/envs/cloudspace/lib/python3.10/site-packages/gradio/blocks.py\", line 1103, in call_function\n",
      "    prediction = await anyio.to_thread.run_sync(\n",
      "  File \"/home/zeus/miniconda3/envs/cloudspace/lib/python3.10/site-packages/anyio/to_thread.py\", line 33, in run_sync\n",
      "    return await get_asynclib().run_sync_in_worker_thread(\n",
      "  File \"/home/zeus/miniconda3/envs/cloudspace/lib/python3.10/site-packages/anyio/_backends/_asyncio.py\", line 877, in run_sync_in_worker_thread\n",
      "    return await future\n",
      "  File \"/home/zeus/miniconda3/envs/cloudspace/lib/python3.10/site-packages/anyio/_backends/_asyncio.py\", line 807, in run\n",
      "    result = context.run(func, *args)\n",
      "  File \"/home/zeus/miniconda3/envs/cloudspace/lib/python3.10/site-packages/gradio/utils.py\", line 707, in wrapper\n",
      "    response = f(*args, **kwargs)\n",
      "  File \"/teamspace/studios/this_studio/stable-diffusion-webui/extensions/stable-diffusion-webui-huggingface/scripts/huggingface.py\", line 34, in push_folder\n",
      "    upload_folder(folder_path=folder_from, path_in_repo=\"\", revision=branch, repo_id=folder_to, commit_message=f\"folder\", token=token)\n",
      "  File \"/home/zeus/miniconda3/envs/cloudspace/lib/python3.10/site-packages/huggingface_hub/utils/_validators.py\", line 114, in _inner_fn\n",
      "    return fn(*args, **kwargs)\n",
      "  File \"/home/zeus/miniconda3/envs/cloudspace/lib/python3.10/site-packages/huggingface_hub/hf_api.py\", line 1286, in _inner\n",
      "    return fn(self, *args, **kwargs)\n",
      "  File \"/home/zeus/miniconda3/envs/cloudspace/lib/python3.10/site-packages/huggingface_hub/hf_api.py\", line 4691, in upload_folder\n",
      "    add_operations = _prepare_upload_folder_additions(\n",
      "  File \"/home/zeus/miniconda3/envs/cloudspace/lib/python3.10/site-packages/huggingface_hub/hf_api.py\", line 8603, in _prepare_upload_folder_additions\n",
      "    raise ValueError(f\"Provided path: '{folder_path}' is not a directory\")\n",
      "ValueError: Provided path: '/teamspace/studios/this_studio/stable-diffusion-webui/stable-diffusion-webui/models' is not a directory\n",
      "ModelInfo(id='vhau/SD-VHAU', author='vhau', sha='103cf23a1d1afe3a3716032eea186a0213e3045d', created_at=datetime.datetime(2024, 7, 16, 22, 8, 55, tzinfo=datetime.timezone.utc), last_modified=datetime.datetime(2024, 7, 16, 22, 8, 56, tzinfo=datetime.timezone.utc), private=True, gated=False, disabled=False, downloads=0, likes=0, library_name=None, tags=['region:us'], pipeline_tag=None, mask_token=None, card_data=None, widget_data=None, model_index=None, config=None, transformers_info=None, siblings=[RepoSibling(rfilename='.gitattributes', size=None, blob_id=None, lfs=None)], spaces=[], safetensors=None)\n",
      "ModelInfo(id='vhau/SD-VHAU', author='vhau', sha='103cf23a1d1afe3a3716032eea186a0213e3045d', created_at=datetime.datetime(2024, 7, 16, 22, 8, 55, tzinfo=datetime.timezone.utc), last_modified=datetime.datetime(2024, 7, 16, 22, 8, 56, tzinfo=datetime.timezone.utc), private=True, gated=False, disabled=False, downloads=0, likes=0, library_name=None, tags=['region:us'], pipeline_tag=None, mask_token=None, card_data=None, widget_data=None, model_index=None, config=None, transformers_info=None, siblings=[RepoSibling(rfilename='.gitattributes', size=None, blob_id=None, lfs=None)], spaces=[], safetensors=None)\n",
      "Traceback (most recent call last):\n",
      "  File \"/home/zeus/miniconda3/envs/cloudspace/lib/python3.10/site-packages/gradio/routes.py\", line 488, in run_predict\n",
      "    output = await app.get_blocks().process_api(\n",
      "  File \"/home/zeus/miniconda3/envs/cloudspace/lib/python3.10/site-packages/gradio/blocks.py\", line 1431, in process_api\n",
      "    result = await self.call_function(\n",
      "  File \"/home/zeus/miniconda3/envs/cloudspace/lib/python3.10/site-packages/gradio/blocks.py\", line 1103, in call_function\n",
      "    prediction = await anyio.to_thread.run_sync(\n",
      "  File \"/home/zeus/miniconda3/envs/cloudspace/lib/python3.10/site-packages/anyio/to_thread.py\", line 33, in run_sync\n",
      "    return await get_asynclib().run_sync_in_worker_thread(\n",
      "  File \"/home/zeus/miniconda3/envs/cloudspace/lib/python3.10/site-packages/anyio/_backends/_asyncio.py\", line 877, in run_sync_in_worker_thread\n",
      "    return await future\n",
      "  File \"/home/zeus/miniconda3/envs/cloudspace/lib/python3.10/site-packages/anyio/_backends/_asyncio.py\", line 807, in run\n",
      "    result = context.run(func, *args)\n",
      "  File \"/home/zeus/miniconda3/envs/cloudspace/lib/python3.10/site-packages/gradio/utils.py\", line 707, in wrapper\n",
      "    response = f(*args, **kwargs)\n",
      "  File \"/teamspace/studios/this_studio/stable-diffusion-webui/extensions/stable-diffusion-webui-huggingface/scripts/huggingface.py\", line 34, in push_folder\n",
      "    upload_folder(folder_path=folder_from, path_in_repo=\"\", revision=branch, repo_id=folder_to, commit_message=f\"folder\", token=token)\n",
      "  File \"/home/zeus/miniconda3/envs/cloudspace/lib/python3.10/site-packages/huggingface_hub/utils/_validators.py\", line 114, in _inner_fn\n",
      "    return fn(*args, **kwargs)\n",
      "  File \"/home/zeus/miniconda3/envs/cloudspace/lib/python3.10/site-packages/huggingface_hub/hf_api.py\", line 1286, in _inner\n",
      "    return fn(self, *args, **kwargs)\n",
      "  File \"/home/zeus/miniconda3/envs/cloudspace/lib/python3.10/site-packages/huggingface_hub/hf_api.py\", line 4691, in upload_folder\n",
      "    add_operations = _prepare_upload_folder_additions(\n",
      "  File \"/home/zeus/miniconda3/envs/cloudspace/lib/python3.10/site-packages/huggingface_hub/hf_api.py\", line 8603, in _prepare_upload_folder_additions\n",
      "    raise ValueError(f\"Provided path: '{folder_path}' is not a directory\")\n",
      "ValueError: Provided path: '/teamspace/studios/this_studio/stable-diffusion-webui/stable-diffusion-webui/models/Lora' is not a directory\n",
      "ModelInfo(id='vhau/SD-VHAU', author='vhau', sha='103cf23a1d1afe3a3716032eea186a0213e3045d', created_at=datetime.datetime(2024, 7, 16, 22, 8, 55, tzinfo=datetime.timezone.utc), last_modified=datetime.datetime(2024, 7, 16, 22, 8, 56, tzinfo=datetime.timezone.utc), private=True, gated=False, disabled=False, downloads=0, likes=0, library_name=None, tags=['region:us'], pipeline_tag=None, mask_token=None, card_data=None, widget_data=None, model_index=None, config=None, transformers_info=None, siblings=[RepoSibling(rfilename='.gitattributes', size=None, blob_id=None, lfs=None)], spaces=[], safetensors=None)\n",
      "ModelInfo(id='vhau/SD-VHAU', author='vhau', sha='103cf23a1d1afe3a3716032eea186a0213e3045d', created_at=datetime.datetime(2024, 7, 16, 22, 8, 55, tzinfo=datetime.timezone.utc), last_modified=datetime.datetime(2024, 7, 16, 22, 8, 56, tzinfo=datetime.timezone.utc), private=True, gated=False, disabled=False, downloads=0, likes=0, library_name=None, tags=['region:us'], pipeline_tag=None, mask_token=None, card_data=None, widget_data=None, model_index=None, config=None, transformers_info=None, siblings=[RepoSibling(rfilename='.gitattributes', size=None, blob_id=None, lfs=None)], spaces=[], safetensors=None)\n",
      "Traceback (most recent call last):\n",
      "  File \"/home/zeus/miniconda3/envs/cloudspace/lib/python3.10/site-packages/gradio/routes.py\", line 488, in run_predict\n",
      "    output = await app.get_blocks().process_api(\n",
      "  File \"/home/zeus/miniconda3/envs/cloudspace/lib/python3.10/site-packages/gradio/blocks.py\", line 1431, in process_api\n",
      "    result = await self.call_function(\n",
      "  File \"/home/zeus/miniconda3/envs/cloudspace/lib/python3.10/site-packages/gradio/blocks.py\", line 1103, in call_function\n",
      "    prediction = await anyio.to_thread.run_sync(\n",
      "  File \"/home/zeus/miniconda3/envs/cloudspace/lib/python3.10/site-packages/anyio/to_thread.py\", line 33, in run_sync\n",
      "    return await get_asynclib().run_sync_in_worker_thread(\n",
      "  File \"/home/zeus/miniconda3/envs/cloudspace/lib/python3.10/site-packages/anyio/_backends/_asyncio.py\", line 877, in run_sync_in_worker_thread\n",
      "    return await future\n",
      "  File \"/home/zeus/miniconda3/envs/cloudspace/lib/python3.10/site-packages/anyio/_backends/_asyncio.py\", line 807, in run\n",
      "    result = context.run(func, *args)\n",
      "  File \"/home/zeus/miniconda3/envs/cloudspace/lib/python3.10/site-packages/gradio/utils.py\", line 707, in wrapper\n",
      "    response = f(*args, **kwargs)\n",
      "  File \"/teamspace/studios/this_studio/stable-diffusion-webui/extensions/stable-diffusion-webui-huggingface/scripts/huggingface.py\", line 34, in push_folder\n",
      "    upload_folder(folder_path=folder_from, path_in_repo=\"\", revision=branch, repo_id=folder_to, commit_message=f\"folder\", token=token)\n",
      "  File \"/home/zeus/miniconda3/envs/cloudspace/lib/python3.10/site-packages/huggingface_hub/utils/_validators.py\", line 114, in _inner_fn\n",
      "    return fn(*args, **kwargs)\n",
      "  File \"/home/zeus/miniconda3/envs/cloudspace/lib/python3.10/site-packages/huggingface_hub/hf_api.py\", line 1286, in _inner\n",
      "    return fn(self, *args, **kwargs)\n",
      "  File \"/home/zeus/miniconda3/envs/cloudspace/lib/python3.10/site-packages/huggingface_hub/hf_api.py\", line 4691, in upload_folder\n",
      "    add_operations = _prepare_upload_folder_additions(\n",
      "  File \"/home/zeus/miniconda3/envs/cloudspace/lib/python3.10/site-packages/huggingface_hub/hf_api.py\", line 8603, in _prepare_upload_folder_additions\n",
      "    raise ValueError(f\"Provided path: '{folder_path}' is not a directory\")\n",
      "ValueError: Provided path: '/teamspace/studios/this_studio/stable-diffusion-webui/stable-diffusion-webui/models' is not a directory\n",
      "ModelInfo(id='vhau/SD-VHAU', author='vhau', sha='103cf23a1d1afe3a3716032eea186a0213e3045d', created_at=datetime.datetime(2024, 7, 16, 22, 8, 55, tzinfo=datetime.timezone.utc), last_modified=datetime.datetime(2024, 7, 16, 22, 8, 56, tzinfo=datetime.timezone.utc), private=True, gated=False, disabled=False, downloads=0, likes=0, library_name=None, tags=['region:us'], pipeline_tag=None, mask_token=None, card_data=None, widget_data=None, model_index=None, config=None, transformers_info=None, siblings=[RepoSibling(rfilename='.gitattributes', size=None, blob_id=None, lfs=None)], spaces=[], safetensors=None)\n",
      "ModelInfo(id='vhau/SD-VHAU', author='vhau', sha='103cf23a1d1afe3a3716032eea186a0213e3045d', created_at=datetime.datetime(2024, 7, 16, 22, 8, 55, tzinfo=datetime.timezone.utc), last_modified=datetime.datetime(2024, 7, 16, 22, 8, 56, tzinfo=datetime.timezone.utc), private=True, gated=False, disabled=False, downloads=0, likes=0, library_name=None, tags=['region:us'], pipeline_tag=None, mask_token=None, card_data=None, widget_data=None, model_index=None, config=None, transformers_info=None, siblings=[RepoSibling(rfilename='.gitattributes', size=None, blob_id=None, lfs=None)], spaces=[], safetensors=None)\n",
      "Traceback (most recent call last):\n",
      "  File \"/home/zeus/miniconda3/envs/cloudspace/lib/python3.10/site-packages/gradio/routes.py\", line 488, in run_predict\n",
      "    output = await app.get_blocks().process_api(\n",
      "  File \"/home/zeus/miniconda3/envs/cloudspace/lib/python3.10/site-packages/gradio/blocks.py\", line 1431, in process_api\n",
      "    result = await self.call_function(\n",
      "  File \"/home/zeus/miniconda3/envs/cloudspace/lib/python3.10/site-packages/gradio/blocks.py\", line 1103, in call_function\n",
      "    prediction = await anyio.to_thread.run_sync(\n",
      "  File \"/home/zeus/miniconda3/envs/cloudspace/lib/python3.10/site-packages/anyio/to_thread.py\", line 33, in run_sync\n",
      "    return await get_asynclib().run_sync_in_worker_thread(\n",
      "  File \"/home/zeus/miniconda3/envs/cloudspace/lib/python3.10/site-packages/anyio/_backends/_asyncio.py\", line 877, in run_sync_in_worker_thread\n",
      "    return await future\n",
      "  File \"/home/zeus/miniconda3/envs/cloudspace/lib/python3.10/site-packages/anyio/_backends/_asyncio.py\", line 807, in run\n",
      "    result = context.run(func, *args)\n",
      "  File \"/home/zeus/miniconda3/envs/cloudspace/lib/python3.10/site-packages/gradio/utils.py\", line 707, in wrapper\n",
      "    response = f(*args, **kwargs)\n",
      "  File \"/teamspace/studios/this_studio/stable-diffusion-webui/extensions/stable-diffusion-webui-huggingface/scripts/huggingface.py\", line 58, in push_file\n",
      "    upload_file(path_or_fileobj=file_from, path_in_repo=file_name, revision=branch, repo_id=file_to, commit_message=f\"file\", token=token)\n",
      "  File \"/home/zeus/miniconda3/envs/cloudspace/lib/python3.10/site-packages/huggingface_hub/utils/_validators.py\", line 114, in _inner_fn\n",
      "    return fn(*args, **kwargs)\n",
      "  File \"/home/zeus/miniconda3/envs/cloudspace/lib/python3.10/site-packages/huggingface_hub/hf_api.py\", line 1286, in _inner\n",
      "    return fn(self, *args, **kwargs)\n",
      "  File \"/home/zeus/miniconda3/envs/cloudspace/lib/python3.10/site-packages/huggingface_hub/hf_api.py\", line 4369, in upload_file\n",
      "    operation = CommitOperationAdd(\n",
      "  File \"<string>\", line 5, in __init__\n",
      "  File \"/home/zeus/miniconda3/envs/cloudspace/lib/python3.10/site-packages/huggingface_hub/_commit_api.py\", line 165, in __post_init__\n",
      "    raise ValueError(f\"Provided path: '{path_or_fileobj}' is not a file on the local file system\")\n",
      "ValueError: Provided path: 'stable-diffusion-webui/models/Lora/aiaiindochinehouse.safetensors' is not a file on the local file system\n"
     ]
    }
   ],
   "source": [
    "%cd /teamspace/studios/this_studio/stable-diffusion-webui/\n",
    "!python launch.py --share --enable-insecure-extension-access"
   ]
  },
  {
   "cell_type": "code",
   "execution_count": null,
   "id": "a703274a-e18b-4e00-8671-4352928092da",
   "metadata": {},
   "outputs": [],
   "source": []
  }
 ],
 "metadata": {
  "colab": {
   "provenance": []
  },
  "kernelspec": {
   "display_name": "Python 3",
   "language": "python",
   "name": "python3"
  },
  "language_info": {
   "codemirror_mode": {
    "name": "ipython",
    "version": 3
   },
   "file_extension": ".py",
   "mimetype": "text/x-python",
   "name": "python",
   "nbconvert_exporter": "python",
   "pygments_lexer": "ipython3",
   "version": "3.10.10"
  }
 },
 "nbformat": 4,
 "nbformat_minor": 5
}
