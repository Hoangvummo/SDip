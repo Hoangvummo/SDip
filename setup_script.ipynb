!apt -y install -qq aria2
!pip install -q stablepy==0.4.1
from google.colab import output
output.clear()
from IPython.display import HTML
HTML("<h2><span style='background-color: crimson; color: white; padding: 5px;'> Xong </span></h2>")
