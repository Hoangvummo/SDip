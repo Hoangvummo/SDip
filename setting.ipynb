{
 "cells": [
  {
   "cell_type": "code",
   "execution_count": null,
   "id": "712a4eda-7f02-4fdd-864f-a7d79212abdb",
   "metadata": {},
   "outputs": [],
   "source": [
    "from IPython.display import clear_output\n",
    "\n",
    "!git clone https://github.com/AUTOMATIC1111/stable-diffusion-webui\n",
    "!pip install -r stable-diffusion-webui/requirements.txt\n",
    "!pip install pickleshare\n",
    "!pip install basicsr\n",
    "\n",
    "# clear_output()\n",
    "print('Done!')"
   ]
  },
  {
   "cell_type": "code",
   "execution_count": null,
   "id": "3700739f-9697-47d7-ba61-171ebe661316",
   "metadata": {},
   "outputs": [],
   "source": [
    "%cd /teamspace/studios/this_studio/stable-diffusion-webui/extensions\n",
    "!git clone https://github.com/Gourieff/sd-webui-reactor\n",
    "!git clone https://github.com/Bing-su/adetailer\n",
    "!git clone https://github.com/Uminosachi/sd-webui-inpaint-anything\n",
    "!git clone https://github.com/Mikubill/sd-webui-controlnet\n"
   ]
  },
  {
   "cell_type": "code",
   "execution_count": null,
   "id": "8bde6029-bf20-4a11-a74e-1df17369a589",
   "metadata": {},
   "outputs": [],
   "source": [
    "%cd /teamspace/studios/this_studio\n",
    "!wget -q --show-progress -c https://huggingface.co/lllyasviel/ControlNet-v1-1/resolve/main/control_v11e_sd15_ip2p.pth -O stable-diffusion-webui/extensions/sd-webui-controlnet/models/control_v11e_sd15_ip2p.pth\n",
    "!wget -q --show-progress -c https://huggingface.co/lllyasviel/ControlNet-v1-1/resolve/main/control_v11e_sd15_shuffle.pth -O stable-diffusion-webui/extensions/sd-webui-controlnet/models/control_v11e_sd15_shuffle.pth\n",
    "!wget -q --show-progress -c https://huggingface.co/lllyasviel/ControlNet-v1-1/resolve/main/control_v11f1e_sd15_tile.pth -O stable-diffusion-webui/extensions/sd-webui-controlnet/models/control_v11f1e_sd15_tile.pth\n",
    "!wget -q --show-progress -c https://huggingface.co/lllyasviel/ControlNet-v1-1/resolve/main/control_v11f1p_sd15_depth.pth -O stable-diffusion-webui/extensions/sd-webui-controlnet/models/control_v11f1p_sd15_depth.pth\n",
    "!wget -q --show-progress -c https://huggingface.co/lllyasviel/ControlNet-v1-1/resolve/main/control_v11p_sd15_canny.pth -O stable-diffusion-webui/extensions/sd-webui-controlnet/models/control_v11p_sd15_canny.pth\n",
    "!wget -q --show-progress -c https://huggingface.co/lllyasviel/ControlNet-v1-1/resolve/main/control_v11p_sd15_inpaint.pth -O stable-diffusion-webui/extensions/sd-webui-controlnet/models/control_v11p_sd15_inpaint.pth\n",
    "!wget -q --show-progress -c https://huggingface.co/lllyasviel/ControlNet-v1-1/resolve/main/control_v11p_sd15_lineart.pth -O stable-diffusion-webui/extensions/sd-webui-controlnet/models/control_v11p_sd15_lineart.pth\n",
    "!wget -q --show-progress -c https://huggingface.co/lllyasviel/ControlNet-v1-1/resolve/main/control_v11p_sd15_mlsd.pth -O stable-diffusion-webui/extensions/sd-webui-controlnet/models/control_v11p_sd15_mlsd.pth\n",
    "!wget -q --show-progress -c https://huggingface.co/lllyasviel/ControlNet-v1-1/resolve/main/control_v11p_sd15_normalbae.pth -O stable-diffusion-webui/extensions/sd-webui-controlnet/models/control_v11p_sd15_normalbae.pth\n",
    "!wget -q --show-progress -c https://huggingface.co/lllyasviel/ControlNet-v1-1/resolve/main/control_v11p_sd15_openpose.pth -O stable-diffusion-webui/extensions/sd-webui-controlnet/models/control_v11p_sd15_openpose.pth\n",
    "!wget -q --show-progress -c https://huggingface.co/lllyasviel/ControlNet-v1-1/resolve/main/control_v11p_sd15_scribble.pth -O stable-diffusion-webui/extensions/sd-webui-controlnet/models/control_v11p_sd15_scribble.pth\n",
    "!wget -q --show-progress -c https://huggingface.co/lllyasviel/ControlNet-v1-1/resolve/main/control_v11p_sd15_seg.pth -O stable-diffusion-webui/extensions/sd-webui-controlnet/models/control_v11p_sd15_seg.pth\n",
    "!wget -q --show-progress -c https://huggingface.co/lllyasviel/ControlNet-v1-1/resolve/main/control_v11p_sd15_softedge.pth -O stable-diffusion-webui/extensions/sd-webui-controlnet/models/control_v11p_sd15_softedge.pth\n",
    "!wget -q --show-progress -c https://huggingface.co/lllyasviel/ControlNet-v1-1/resolve/main/control_v11p_sd15s2_lineart_anime.pth -O stable-diffusion-webui/extensions/sd-webui-controlnet/models/control_v11p_sd15s2_lineart_anime.pth\n",
    "!wget -q --show-progress -c https://huggingface.co/TencentARC/T2I-Adapter/resolve/main/models/t2iadapter_color_sd14v1.pth -O stable-diffusion-webui/extensions/sd-webui-controlnet/models/t2iadapter_color_sd14v1.pth\n",
    "!wget -q --show-progress -c https://huggingface.co/TencentARC/T2I-Adapter/resolve/main/models/t2iadapter_style_sd14v1.pth -O stable-diffusion-webui/extensions/sd-webui-controlnet/models/t2iadapter_style_sd14v1.pth\n",
    "!wget -q --show-progress -c https://huggingface.co/h94/IP-Adapter/resolve/main/models/ip-adapter_sd15.safetensors -O stable-diffusion-webui/extensions/sd-webui-controlnet/models/ip-adapter_sd15.safetensors\n",
    "!wget -q --show-progress -c https://huggingface.co/h94/IP-Adapter/resolve/main/models/ip-adapter-plus_sd15.safetensors -O stable-diffusion-webui/extensions/sd-webui-controlnet/models/ip-adapter-plus_sd15.safetensors\n",
    "!wget -q --show-progress -c https://huggingface.co/h94/IP-Adapter/resolve/main/models/ip-adapter-plus-face_sd15.safetensors -O stable-diffusion-webui/extensions/sd-webui-controlnet/models/ip-adapter-plus-face_sd15.safetensors\n",
    "!wget -q --show-progress -c https://huggingface.co/h94/IP-Adapter-FaceID/resolve/main/ip-adapter-faceid-plusv2_sd15.bin -O stable-diffusion-webui/extensions/sd-webui-controlnet/models/ip-adapter-faceid-plusv2_sd15.bin\n",
    "!wget -q --show-progress -c https://huggingface.co/h94/IP-Adapter/resolve/main/sdxl_models/ip-adapter-plus_sdxl_vit-h.safetensors -O stable-diffusion-webui/extensions/sd-webui-controlnet/models/ip-adapter-plus_sdxl_vit-h.safetensors\n",
    "!wget -q --show-progress -c https://huggingface.co/h94/IP-Adapter-FaceID/resolve/main/ip-adapter-faceid_sdxl.bin -O stable-diffusion-webui/extensions/sd-webui-controlnet/models/ip-adapter-faceid_sdxl.bin\n",
    "!pip install insightface"
   ]
  },
  {
   "cell_type": "code",
   "execution_count": null,
   "id": "a703274a-e18b-4e00-8671-4352928092da",
   "metadata": {},
   "outputs": [],
   "source": []
  }
 ],
 "metadata": {
  "colab": {
   "provenance": []
  },
  "kernelspec": {
   "display_name": "Python 3",
   "language": "python",
   "name": "python3"
  },
  "language_info": {
   "codemirror_mode": {
    "name": "ipython",
    "version": 3
   },
   "file_extension": ".py",
   "mimetype": "text/x-python",
   "name": "python",
   "nbconvert_exporter": "python",
   "pygments_lexer": "ipython3",
   "version": "3.10.10"
  }
 },
 "nbformat": 4,
 "nbformat_minor": 5
}
