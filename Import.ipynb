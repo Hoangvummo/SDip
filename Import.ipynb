{
  "nbformat": 4,
  "nbformat_minor": 0,
  "metadata": {
    "colab": {
      "provenance": [],
      "authorship_tag": "ABX9TyNlotrisyFgGQ5I54jhKWlF",
      "include_colab_link": true
    },
    "kernelspec": {
      "name": "python3",
      "display_name": "Python 3"
    },
    "language_info": {
      "name": "python"
    }
  },
  "cells": [
    {
      "cell_type": "markdown",
      "metadata": {
        "id": "view-in-github",
        "colab_type": "text"
      },
      "source": [
        "<a href=\"https://colab.research.google.com/github/Hoangvummo/SDip/blob/main/Import.ipynb\" target=\"_parent\"><img src=\"https://colab.research.google.com/assets/colab-badge.svg\" alt=\"Open In Colab\"/></a>"
      ]
    },
    {
      "cell_type": "code",
      "execution_count": null,
      "metadata": {
        "id": "JLnpZiQ5zY6S"
      },
      "outputs": [],
      "source": [
        "!apt -y install -qq aria2\n",
        "!pip install -q stablepy==0.4.1\n",
        "from google.colab import output\n",
        "output.clear()\n",
        "from IPython.display import HTML\n",
        "HTML(\"<h2><span style='background-color: crimson; color: white; padding: 5px;'> Xong </span></h2>\")"
      ]
    }
  ]
}